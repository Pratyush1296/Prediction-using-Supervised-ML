{
 "cells": [
  {
   "cell_type": "markdown",
   "id": "0d8455a2",
   "metadata": {},
   "source": [
    "### The Sparks Foundation\n",
    "### Task1 - Prediction using Supervised ML\n",
    "### Pratyush Yadav"
   ]
  },
  {
   "cell_type": "code",
   "execution_count": 1,
   "id": "625899a0",
   "metadata": {},
   "outputs": [],
   "source": [
    "import pandas as pd\n",
    "import numpy as np\n",
    "import matplotlib.pyplot as plt \n",
    "import seaborn as sns\n",
    "import math\n",
    "%matplotlib inline"
   ]
  },
  {
   "cell_type": "code",
   "execution_count": 2,
   "id": "026154d8",
   "metadata": {},
   "outputs": [],
   "source": [
    "student_data=pd.read_table('C:/Users/Pratyush Yadav/Desktop/COVID-19 Journal/student.txt',sep=',')"
   ]
  },
  {
   "cell_type": "code",
   "execution_count": 3,
   "id": "835d2fac",
   "metadata": {},
   "outputs": [
    {
     "data": {
      "text/html": [
       "<div>\n",
       "<style scoped>\n",
       "    .dataframe tbody tr th:only-of-type {\n",
       "        vertical-align: middle;\n",
       "    }\n",
       "\n",
       "    .dataframe tbody tr th {\n",
       "        vertical-align: top;\n",
       "    }\n",
       "\n",
       "    .dataframe thead th {\n",
       "        text-align: right;\n",
       "    }\n",
       "</style>\n",
       "<table border=\"1\" class=\"dataframe\">\n",
       "  <thead>\n",
       "    <tr style=\"text-align: right;\">\n",
       "      <th></th>\n",
       "      <th>Hours</th>\n",
       "      <th>Scores</th>\n",
       "    </tr>\n",
       "  </thead>\n",
       "  <tbody>\n",
       "    <tr>\n",
       "      <th>count</th>\n",
       "      <td>25.000000</td>\n",
       "      <td>25.000000</td>\n",
       "    </tr>\n",
       "    <tr>\n",
       "      <th>mean</th>\n",
       "      <td>5.012000</td>\n",
       "      <td>51.480000</td>\n",
       "    </tr>\n",
       "    <tr>\n",
       "      <th>std</th>\n",
       "      <td>2.525094</td>\n",
       "      <td>25.286887</td>\n",
       "    </tr>\n",
       "    <tr>\n",
       "      <th>min</th>\n",
       "      <td>1.100000</td>\n",
       "      <td>17.000000</td>\n",
       "    </tr>\n",
       "    <tr>\n",
       "      <th>25%</th>\n",
       "      <td>2.700000</td>\n",
       "      <td>30.000000</td>\n",
       "    </tr>\n",
       "    <tr>\n",
       "      <th>50%</th>\n",
       "      <td>4.800000</td>\n",
       "      <td>47.000000</td>\n",
       "    </tr>\n",
       "    <tr>\n",
       "      <th>75%</th>\n",
       "      <td>7.400000</td>\n",
       "      <td>75.000000</td>\n",
       "    </tr>\n",
       "    <tr>\n",
       "      <th>max</th>\n",
       "      <td>9.200000</td>\n",
       "      <td>95.000000</td>\n",
       "    </tr>\n",
       "  </tbody>\n",
       "</table>\n",
       "</div>"
      ],
      "text/plain": [
       "           Hours     Scores\n",
       "count  25.000000  25.000000\n",
       "mean    5.012000  51.480000\n",
       "std     2.525094  25.286887\n",
       "min     1.100000  17.000000\n",
       "25%     2.700000  30.000000\n",
       "50%     4.800000  47.000000\n",
       "75%     7.400000  75.000000\n",
       "max     9.200000  95.000000"
      ]
     },
     "execution_count": 3,
     "metadata": {},
     "output_type": "execute_result"
    }
   ],
   "source": [
    "student_data.describe()"
   ]
  },
  {
   "cell_type": "markdown",
   "id": "e055a97e",
   "metadata": {},
   "source": [
    "As can be seen, there are only 25 observations in the dataset given. In addition, it can be seen that on an average a student studies for 5.012 hours and the average scores obtained are 51.48. \n",
    "Average hours a student spends on studying from the sample is 5.012 hours. This is the sample mean, to draw inferences about the population mean, we construct a confidence interval."
   ]
  },
  {
   "cell_type": "code",
   "execution_count": 4,
   "id": "938c9d97",
   "metadata": {},
   "outputs": [],
   "source": [
    "upper = student_data['Hours'].mean() + 1.96*(student_data['Hours'].std()/math.sqrt(25))\n",
    "lower = student_data['Hours'].mean() - 1.96*(student_data['Hours'].std()/math.sqrt(25))"
   ]
  },
  {
   "cell_type": "code",
   "execution_count": 5,
   "id": "e520fa98",
   "metadata": {},
   "outputs": [
    {
     "name": "stdout",
     "output_type": "stream",
     "text": [
      "95% confidence interval for hours spent on studying:\n",
      "[4.022163129399596, 6.001836870600403]\n"
     ]
    }
   ],
   "source": [
    "confidence_interval = [lower, upper]\n",
    "print('95% confidence interval for hours spent on studying:')\n",
    "print(confidence_interval)"
   ]
  },
  {
   "cell_type": "code",
   "execution_count": 6,
   "id": "de501e1f",
   "metadata": {},
   "outputs": [
    {
     "data": {
      "text/plain": [
       "<AxesSubplot:xlabel='Hours', ylabel='Scores'>"
      ]
     },
     "execution_count": 6,
     "metadata": {},
     "output_type": "execute_result"
    },
    {
     "data": {
      "image/png": "[encoded data removed]",
      "text/plain": [
       "<Figure size 1440x504 with 3 Axes>"
      ]
     },
     "metadata": {
      "needs_background": "light"
     },
     "output_type": "display_data"
    }
   ],
   "source": [
    "#Visualizing the relationship between hours spent and scores obtained\n",
    "\n",
    "fig = plt.figure(figsize=(20,7))\n",
    "fig.add_subplot(1,2,1)\n",
    "sns.heatmap(student_data.corr(),annot=True, annot_kws={\"fontsize\":16})\n",
    "\n",
    "fig.add_subplot(1,2,2)\n",
    "sns.scatterplot(x=student_data['Hours'],y=student_data['Scores'])\n"
   ]
  },
  {
   "cell_type": "markdown",
   "id": "215e2863",
   "metadata": {},
   "source": [
    "The above graph and heatmap shows the correlation between the hours spent and the scores obtained. Unsurprisingly, the hours spent on studying is highly correlated with the scores obtained by a student. This correlation value is given by 0.98. We now proceed to create the regression model in order to predict the scores based on the hours studied."
   ]
  },
  {
   "cell_type": "code",
   "execution_count": 7,
   "id": "d0460781",
   "metadata": {},
   "outputs": [],
   "source": [
    "# Regression Model\n",
    "from sklearn.linear_model import LinearRegression\n",
    "from sklearn.model_selection import train_test_split\n",
    "from sklearn import preprocessing\n",
    "\n",
    "x= student_data['Hours'].values.reshape(-1,1)\n",
    "y = student_data['Scores'].values.reshape(-1,1)\n",
    "\n",
    "x_train, x_test, y_train, y_test = train_test_split(x, y , test_size=0.25, random_state=150)"
   ]
  },
  {
   "cell_type": "code",
   "execution_count": 8,
   "id": "15680110",
   "metadata": {},
   "outputs": [
    {
     "data": {
      "text/plain": [
       "LinearRegression()"
      ]
     },
     "execution_count": 8,
     "metadata": {},
     "output_type": "execute_result"
    }
   ],
   "source": [
    "lr_model = LinearRegression()\n",
    "lr_model.fit(x_train, y_train)"
   ]
  },
  {
   "cell_type": "code",
   "execution_count": 9,
   "id": "d24bd6c3",
   "metadata": {},
   "outputs": [
    {
     "name": "stdout",
     "output_type": "stream",
     "text": [
      "The Regression Equation is:\n",
      " Percentage Score = 4.217973019249243 + 9.552748477087581 x Hours\n"
     ]
    }
   ],
   "source": [
    "print('The Regression Equation is:\\n Percentage Score = ' + str(lr_model.intercept_[0])+' + '+str(lr_model.coef_[0][0])+' x Hours')"
   ]
  },
  {
   "cell_type": "code",
   "execution_count": 10,
   "id": "a2dbf152",
   "metadata": {},
   "outputs": [
    {
     "data": {
      "image/png": "[encoded data removed]",
      "text/plain": [
       "<Figure size 432x288 with 1 Axes>"
      ]
     },
     "metadata": {
      "needs_background": "light"
     },
     "output_type": "display_data"
    }
   ],
   "source": [
    "#Plotting the fitted line\n",
    "predictions = lr_model.predict(x_train)\n",
    "plt.plot(x_train,y_train,'o')\n",
    "# change here\n",
    "plt.plot(x_train, predictions, '-')\n",
    "plt.show()"
   ]
  },
  {
   "cell_type": "code",
   "execution_count": 11,
   "id": "7d17d9c1",
   "metadata": {},
   "outputs": [
    {
     "name": "stdout",
     "output_type": "stream",
     "text": [
      "R2 value: 0.951495493530316\n",
      "Mean Absolute Error: 4.8040936216479935\n",
      "Mean Squared Error: 29.039351057033635\n"
     ]
    }
   ],
   "source": [
    "#Evaluating the Model\n",
    "from sklearn import metrics\n",
    "\n",
    "y_pred = lr_model.predict(x_test)\n",
    "print('R2 value:',metrics.r2_score(y_test,y_pred))\n",
    "print('Mean Absolute Error:',metrics.mean_absolute_error(y_test,y_pred))\n",
    "print('Mean Squared Error:',metrics.mean_squared_error(y_test,y_pred))"
   ]
  },
  {
   "cell_type": "code",
   "execution_count": 12,
   "id": "4ce2c615",
   "metadata": {},
   "outputs": [
    {
     "name": "stdout",
     "output_type": "stream",
     "text": [
      "Enter the desired number of hours: 9.25\n",
      "Predicted Percentage Score is 92.58089643230937\n"
     ]
    }
   ],
   "source": [
    "#Predicting for given set of hours\n",
    "hours = float(input('Enter the desired number of hours: '))\n",
    "percentage_score = lr_model.predict([[hours]])\n",
    "print('Predicted Percentage Score is', percentage_score.reshape(-1)[0])"
   ]
  },
  {
   "cell_type": "markdown",
   "id": "1c5ca8dc",
   "metadata": {},
   "source": [
    "### Testing the Assumptions of Regression\n",
    "#### Residuals vs Fitted Values Plot"
   ]
  },
  {
   "cell_type": "code",
   "execution_count": 13,
   "id": "ba5c7c5d",
   "metadata": {},
   "outputs": [
    {
     "data": {
      "text/plain": [
       "Text(0.5, 1.0, 'Residual Plot')"
      ]
     },
     "execution_count": 13,
     "metadata": {},
     "output_type": "execute_result"
    },
    {
     "data": {
      "image/png": "[encoded data removed]",
      "text/plain": [
       "<Figure size 720x432 with 1 Axes>"
      ]
     },
     "metadata": {
      "needs_background": "light"
     },
     "output_type": "display_data"
    }
   ],
   "source": [
    "predictions = lr_model.predict(x_train)\n",
    "residuals = y_train - predictions\n",
    "plt.figure(figsize=(10,6))\n",
    "sns.residplot(x=predictions, y=residuals,lowess=True,line_kws={'color':'red','lw':1,'alpha':1})\n",
    "plt.xlabel('Fitted Values')\n",
    "plt.title('Residual Plot')"
   ]
  },
  {
   "cell_type": "markdown",
   "id": "5ee6c3c1",
   "metadata": {},
   "source": [
    "The above plot shows a pattern which is a little concerning, as a result we go for testing the assumptions of regression"
   ]
  },
  {
   "cell_type": "markdown",
   "id": "459fbf86",
   "metadata": {},
   "source": [
    "#### Linearity\n",
    "The scatterplot plotted earlier shows that there is a linear relationship between the two variables, hence satisfying the linearity assumption of regression. This is also evident in the plot showing the regression line representing the relationship between the variables in question."
   ]
  },
  {
   "cell_type": "markdown",
   "id": "dac4cc6d",
   "metadata": {},
   "source": [
    "#### Autocorrelation of Error Terms"
   ]
  },
  {
   "cell_type": "code",
   "execution_count": 14,
   "id": "4aee3287",
   "metadata": {},
   "outputs": [
    {
     "name": "stdout",
     "output_type": "stream",
     "text": [
      "1.5700673393766282\n"
     ]
    }
   ],
   "source": [
    "from statsmodels.stats.stattools import durbin_watson\n",
    "import statsmodels.stats.api as sms\n",
    "import scipy.stats as stats\n",
    "\n",
    "# Durbin Watson Test\n",
    "dw_test = durbin_watson(residuals)\n",
    "print(dw_test[0])"
   ]
  },
  {
   "cell_type": "markdown",
   "id": "d031a3bc",
   "metadata": {},
   "source": [
    "The value of Durbin Watson test should be between 1.5 and 2.5 ideally which indicates no auto-correlation between residuals in our case. We next test the assumption of heteroscedasticity which is also important. For this purpose we use the Breusch-pagan test."
   ]
  },
  {
   "cell_type": "markdown",
   "id": "d6b302b2",
   "metadata": {},
   "source": [
    "#### Constant Variance of Error Terms"
   ]
  },
  {
   "cell_type": "code",
   "execution_count": 15,
   "id": "3b25e4b2",
   "metadata": {
    "scrolled": true
   },
   "outputs": [
    {
     "name": "stdout",
     "output_type": "stream",
     "text": [
      "p-value of f-test : 2.0113390252027978e-05\n"
     ]
    }
   ],
   "source": [
    "bp_test =sms.het_breuschpagan(residuals, x_train) \n",
    "print('p-value of f-test : '+str(bp_test[3]))"
   ]
  },
  {
   "cell_type": "markdown",
   "id": "cb0c1cee",
   "metadata": {},
   "source": [
    "The p-value is less than 0.05 which indicates that there is no heteroscedasticity in our dataset. Next important assumption is the normality assumption, for which we will take the help of visualization tools as well as parametric tests "
   ]
  },
  {
   "cell_type": "markdown",
   "id": "0854c55d",
   "metadata": {},
   "source": [
    "#### Normality of Residuals"
   ]
  },
  {
   "cell_type": "code",
   "execution_count": 16,
   "id": "b82a2052",
   "metadata": {},
   "outputs": [
    {
     "data": {
      "text/plain": [
       "ShapiroResult(statistic=0.9183567762374878, pvalue=0.12089289724826813)"
      ]
     },
     "execution_count": 16,
     "metadata": {},
     "output_type": "execute_result"
    },
    {
     "data": {
      "image/png": "[encoded data removed]",
      "text/plain": [
       "<Figure size 504x504 with 1 Axes>"
      ]
     },
     "metadata": {
      "needs_background": "light"
     },
     "output_type": "display_data"
    }
   ],
   "source": [
    "plt.figure(figsize=(7,7))\n",
    "stats.probplot(residuals.reshape(-1), dist='norm',plot =plt)\n",
    "plt.title('Normal Q-Q Plot')\n",
    "\n",
    "stats.shapiro(residuals)"
   ]
  },
  {
   "cell_type": "markdown",
   "id": "a05c7f98",
   "metadata": {},
   "source": [
    "It seems the error terms more or less following the 45-degree line as seen from the Q-Q plot. Moreover, from the shapiro wilk test we see that the p-value is greater than 0.05. This means that we fail to reject the null hypothesis that the residuals follow a normal distribution. \n",
    "\n",
    "As a result, all the assumptions of linear regression have been checked and are satisfied, indicating that the analysis can be interpreted safely. "
   ]
  },
  {
   "cell_type": "code",
   "execution_count": null,
   "id": "d1b43c2c",
   "metadata": {},
   "outputs": [],
   "source": []
  }
 ],
 "metadata": {
  "kernelspec": {
   "display_name": "Python 3",
   "language": "python",
   "name": "python3"
  },
  "language_info": {
   "codemirror_mode": {
    "name": "ipython",
    "version": 3
   },
   "file_extension": ".py",
   "mimetype": "text/x-python",
   "name": "python",
   "nbconvert_exporter": "python",
   "pygments_lexer": "ipython3",
   "version": "3.9.5"
  }
 },
 "nbformat": 4,
 "nbformat_minor": 5
}
